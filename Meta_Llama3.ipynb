{
 "cells": [
  {
   "cell_type": "code",
   "execution_count": 13,
   "id": "183166bf-ef47-45f1-bcac-d7a405890ae6",
   "metadata": {
    "editable": true,
    "slideshow": {
     "slide_type": ""
    },
    "tags": []
   },
   "outputs": [
    {
     "name": "stdout",
     "output_type": "stream",
     "text": [
      "Wow. You want to know how many customers there are? Well, I'm shocked. Absolutely shocked. That you couldn't figure this out on your own. I mean, it's not like it's a difficult question or anything. But I'll play along. There are... (drumroll please)... 5 customers. Yes, a whole 5. I hope you're satisfied now. Don't strain yourself trying to comprehend such a complex answer.\n"
     ]
    }
   ],
   "source": [
    "import boto3\n",
    "import json\n",
    "from botocore.exceptions import ClientError\n",
    "import pandas as pd\n",
    "\n",
    "# Create a Bedrock Runtime client in the AWS Region of your choice.\n",
    "client = boto3.client(\"bedrock-runtime\", region_name=\"us-east-1\")\n",
    "\n",
    "# Set the model ID, e.g., Llama 3 70b Instruct.\n",
    "model_id = \"meta.llama3-70b-instruct-v1:0\"\n",
    "\n",
    "\n",
    "#user_input = \"Who were the first 3 presidents of the US?\"\n",
    "\n",
    "\n",
    "# Define the prompt for the model.\n",
    "#prompt = \"Generate a SQL query that joins an Orders table and a Customers table to get the customers with the most orders.\"\n",
    "prompt = f\"\"\"\n",
    "Given the following SQL query result\n",
    "\n",
    "SQL_RESULT_START\n",
    "5\n",
    "SQL_RESULT_END\n",
    "\n",
    "And given the original prompt:\n",
    "\n",
    "PROMPT_START\n",
    "How many customers are there?\n",
    "PROMPT_END\n",
    "\n",
    "Provide a natural language answer to the prompt but be a dick about it.\n",
    "\n",
    "\"\"\"\n",
    "# Embed the prompt in Llama 3's instruction format.\n",
    "formatted_prompt = f\"\"\"\n",
    "<|begin_of_text|><|start_header_id|>user<|end_header_id|>\n",
    "{prompt}\n",
    "<|eot_id|>\n",
    "<|start_header_id|>assistant<|end_header_id|>\n",
    "\"\"\"\n",
    "\n",
    "# Format the request payload using the model's native structure.\n",
    "native_request = {\n",
    "    \"prompt\": formatted_prompt,\n",
    "    \"max_gen_len\": 512,\n",
    "    \"temperature\": 0.5,\n",
    "}\n",
    "\n",
    "# Convert the native request to JSON.\n",
    "request = json.dumps(native_request)\n",
    "\n",
    "try:\n",
    "    # Invoke the model with the request.\n",
    "    response = client.invoke_model(modelId=model_id, body=request)\n",
    "\n",
    "except (ClientError, Exception) as e:\n",
    "    print(f\"ERROR: Can't invoke '{model_id}'. Reason: {e}\")\n",
    "    exit(1)\n",
    "\n",
    "# Decode the response body.\n",
    "model_response = json.loads(response[\"body\"].read())\n",
    "\n",
    "# Extract and print the response text.\n",
    "response_text = model_response[\"generation\"]\n",
    "\n",
    "print(response_text)\n"
   ]
  }
 ],
 "metadata": {
  "kernelspec": {
   "display_name": "Python 3 (ipykernel)",
   "language": "python",
   "name": "python3"
  },
  "language_info": {
   "codemirror_mode": {
    "name": "ipython",
    "version": 3
   },
   "file_extension": ".py",
   "mimetype": "text/x-python",
   "name": "python",
   "nbconvert_exporter": "python",
   "pygments_lexer": "ipython3",
   "version": "3.11.11"
  }
 },
 "nbformat": 4,
 "nbformat_minor": 5
}
