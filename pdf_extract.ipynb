{
 "cells": [
  {
   "cell_type": "code",
   "execution_count": 35,
   "id": "8a399fe2-6e21-4414-9762-161b1d7255fa",
   "metadata": {},
   "outputs": [
    {
     "name": "stdout",
     "output_type": "stream",
     "text": [
      "['Rule', '', 'If the', '', 'And the\\nPerson', 'And the\\nAppointment Is', 'Then\\nNOAC\\nIs', 'NOA Is', 'Auth\\nCode\\nIs', 'Authority\\nIs (See\\nNote 1)', 'Notes', 'Remarks']\n",
      "[None, None, 'Appointment Is', None, None, None, None, None, None, None, None, None]\n",
      "[None, None, 'Based On', None, None, None, None, None, None, None, None, None]\n",
      "[None, None, '(See Note 3)', None, None, None, None, None, None, None, None, None]\n",
      "['13', 'The person\\npreviously was\\nwithin reach on a\\nCivil Service\\nCertificate for\\ncareer or career-\\nconditional\\nappointment to\\ntheir position', None, None, 'Has been\\nemployed\\ncontinuou-\\nsly since\\nbeing\\nreached', 'Career', '500', 'Conv to Career\\nAppt', 'LSM\\nand\\nACM', 'Reg.\\n315.703\\nand CS\\nCert\\nNo____', '1. In addition to any other authorities\\nrequired by this table, you may cite “ZLM:\\nOther Citation (law, E.O., or Reg.)” as a\\nsecond authority when appropriate.\\n3. Use Secondary LAC “ZBB” for actions in\\nsupport of the Infrastructure Investment\\nand Jobs Act (P.L. 117-58).', 'Use as many\\nremarks from\\nTable 9-I as are\\napplicable.']\n",
      "['14', None, None, None, None, 'Career-\\nConditional', '501', 'Conv to\\nCareer- Cond\\nAppt', None, None, None, None]\n",
      "['15', 'Certificate issued\\nfrom a civil\\nservice register\\nmaintained by an\\nagency with a\\ndelegation of\\ncompetitive\\nexamining\\nauthority from\\nOPM or special\\nexamining unit\\nauthorized by\\nOPM', None, None, \"Is not on\\nyour\\nagency's\\nrolls\", 'Career', '100', 'Career Appt', 'BWA', 'OPM DE\\nAgr\\n(enter #)', None, None]\n",
      "['16', 'Certificate issued\\nfrom a civil\\nservice register\\nmaintained by an\\nagency with a\\ndelegation of\\ncompetitive\\nexamining\\nauthority from\\nOPM or special\\nexamining unit\\nauthorized by\\nOPM', None, None, \"Is not on\\nyour\\nagency's\\nrolls\", 'Career-\\nConditional', '101', 'Career-Cond\\nAppt', 'BWA', 'OPM DE\\nAgr\\n(enter #)', None, None]\n",
      "['17', None, None, None, \"Is already\\non your\\nagency's\\nrolls\", 'Career', '500', 'Conv to Career\\nAppt', None, None, None, None]\n",
      "['18', None, None, None, None, 'Career-\\nConditional', '501', 'Conv to\\nCareer- Cond\\nAppt', None, None, None, None]\n"
     ]
    }
   ],
   "source": [
    "import pdfplumber\n",
    "\n",
    "# Specify the path to your PDF file\n",
    "pdf_path = \"data/chapter-9_final.pdf\"\n",
    "\n",
    "# Open the PDF file\n",
    "with pdfplumber.open(pdf_path) as pdf:\n",
    "    # Ensure the PDF has at least 8 pages\n",
    "    if len(pdf.pages) >= 8:\n",
    "        # Access the 8th page (index 7 since it's zero-based)\n",
    "        page = pdf.pages[7]\n",
    "        \n",
    "        # Extract tables from the page\n",
    "        tables = page.extract_tables()\n",
    "        \n",
    "        # Check if any tables were found\n",
    "        if tables:\n",
    "            # Process the first table found (if multiple tables exist)\n",
    "            table = tables[0]\n",
    "            \n",
    "            # Print the table row by row\n",
    "            for row in table:\n",
    "                print(row)\n",
    "        else:\n",
    "            print(\"No tables found on the 8th page.\")\n",
    "    else:\n",
    "        print(\"The PDF has fewer than 8 pages.\")\n"
   ]
  },
  {
   "cell_type": "code",
   "execution_count": 32,
   "id": "d20af831-de8c-45c6-8b59-30f991428621",
   "metadata": {},
   "outputs": [],
   "source": []
  },
  {
   "cell_type": "code",
   "execution_count": 32,
   "id": "764f884e-ed19-4a0e-9935-0bee63f29853",
   "metadata": {},
   "outputs": [],
   "source": [
    "# clean up non-rows based on the column/top row\n",
    "rm_indeces = []\n",
    "for i in range(0, len(table[0])):\n",
    "    if table[0][i] == '':\n",
    "        rm_indeces.append(i)\n",
    "\n",
    "for x in range(0, len(table)):\n",
    "    table[x] = [item for i, item in enumerate(table[x]) if i not in rm_indeces]"
   ]
  },
  {
   "cell_type": "code",
   "execution_count": 37,
   "id": "07850290-2fbd-46ef-80b3-b86c63032743",
   "metadata": {},
   "outputs": [
    {
     "name": "stdout",
     "output_type": "stream",
     "text": [
      "['Rule', '', 'If the', '', 'And the\\nPerson', 'And the\\nAppointment Is', 'Then\\nNOAC\\nIs', 'NOA Is', 'Auth\\nCode\\nIs', 'Authority\\nIs (See\\nNote 1)', 'Notes', 'Remarks']\n",
      "[None, None, 'Appointment Is', None, None, None, None, None, None, None, None, None]\n",
      "[None, None, 'Based On', None, None, None, None, None, None, None, None, None]\n",
      "[None, None, '(See Note 3)', None, None, None, None, None, None, None, None, None]\n",
      "['13', 'The person\\npreviously was\\nwithin reach on a\\nCivil Service\\nCertificate for\\ncareer or career-\\nconditional\\nappointment to\\ntheir position', None, None, 'Has been\\nemployed\\ncontinuou-\\nsly since\\nbeing\\nreached', 'Career', '500', 'Conv to Career\\nAppt', 'LSM\\nand\\nACM', 'Reg.\\n315.703\\nand CS\\nCert\\nNo____', '1. In addition to any other authorities\\nrequired by this table, you may cite “ZLM:\\nOther Citation (law, E.O., or Reg.)” as a\\nsecond authority when appropriate.\\n3. Use Secondary LAC “ZBB” for actions in\\nsupport of the Infrastructure Investment\\nand Jobs Act (P.L. 117-58).', 'Use as many\\nremarks from\\nTable 9-I as are\\napplicable.']\n",
      "['14', None, None, None, None, 'Career-\\nConditional', '501', 'Conv to\\nCareer- Cond\\nAppt', None, None, None, None]\n",
      "['15', 'Certificate issued\\nfrom a civil\\nservice register\\nmaintained by an\\nagency with a\\ndelegation of\\ncompetitive\\nexamining\\nauthority from\\nOPM or special\\nexamining unit\\nauthorized by\\nOPM', None, None, \"Is not on\\nyour\\nagency's\\nrolls\", 'Career', '100', 'Career Appt', 'BWA', 'OPM DE\\nAgr\\n(enter #)', None, None]\n",
      "['16', 'Certificate issued\\nfrom a civil\\nservice register\\nmaintained by an\\nagency with a\\ndelegation of\\ncompetitive\\nexamining\\nauthority from\\nOPM or special\\nexamining unit\\nauthorized by\\nOPM', None, None, \"Is not on\\nyour\\nagency's\\nrolls\", 'Career-\\nConditional', '101', 'Career-Cond\\nAppt', 'BWA', 'OPM DE\\nAgr\\n(enter #)', None, None]\n",
      "['17', None, None, None, \"Is already\\non your\\nagency's\\nrolls\", 'Career', '500', 'Conv to Career\\nAppt', None, None, None, None]\n",
      "['18', None, None, None, None, 'Career-\\nConditional', '501', 'Conv to\\nCareer- Cond\\nAppt', None, None, None, None]\n"
     ]
    }
   ],
   "source": [
    "for t in table:\n",
    "    print(t)"
   ]
  },
  {
   "cell_type": "code",
   "execution_count": 42,
   "id": "78cbfc49-22bf-42c4-ae2a-8c3698107480",
   "metadata": {
    "editable": true,
    "slideshow": {
     "slide_type": ""
    },
    "tags": []
   },
   "outputs": [
    {
     "name": "stdout",
     "output_type": "stream",
     "text": [
      "4 [2, 3]\n",
      "5 [1, 2, 3, 4, 8, 9, 10, 11]\n",
      "6 [2, 3, 10, 11]\n",
      "7 [2, 3, 10, 11]\n",
      "8 [1, 2, 3, 8, 9, 10, 11]\n",
      "9 [1, 2, 3, 4, 8, 9, 10, 11]\n",
      "['13', 'The person\\npreviously was\\nwithin reach on a\\nCivil Service\\nCertificate for\\ncareer or career-\\nconditional\\nappointment to\\ntheir position', None, None, 'Has been\\nemployed\\ncontinuou-\\nsly since\\nbeing\\nreached', 'Career', '500', 'Conv to Career\\nAppt', 'LSM\\nand\\nACM', 'Reg.\\n315.703\\nand CS\\nCert\\nNo____', '1. In addition to any other authorities\\nrequired by this table, you may cite “ZLM:\\nOther Citation (law, E.O., or Reg.)” as a\\nsecond authority when appropriate.\\n3. Use Secondary LAC “ZBB” for actions in\\nsupport of the Infrastructure Investment\\nand Jobs Act (P.L. 117-58).', 'Use as many\\nremarks from\\nTable 9-I as are\\napplicable.']\n"
     ]
    }
   ],
   "source": [
    "number_list = [str(num) for num in range(1, 100)]\n",
    "col_names = []\n",
    "curr_row = []\n",
    "next_row = []\n",
    "\n",
    "first_row_flag = False\n",
    "first_row = []\n",
    "col_names = table[0]\n",
    "for x in range(0, len(table)):    \n",
    "    none_index = []\n",
    "    if table[x][0] in number_list:\n",
    "        # pick first row that contains rule as baseline to pass missing values to subsequent rows\n",
    "        if first_row_flag == False:\n",
    "            first_row = table[x] \n",
    "            first_row_flag = True\n",
    "            \n",
    "        curr_row = table[x]\n",
    "        for i in range(0, len(curr_row)):\n",
    "            if curr_row[i] == None:\n",
    "                none_index.append(i)\n",
    "        print(x, none_index)\n",
    "\n",
    "print(first_row)"
   ]
  },
  {
   "cell_type": "code",
   "execution_count": 40,
   "id": "191abdd0-2d54-4d3f-95ae-60ddd8faca73",
   "metadata": {},
   "outputs": [
    {
     "data": {
      "text/plain": [
       "True"
      ]
     },
     "execution_count": 40,
     "metadata": {},
     "output_type": "execute_result"
    }
   ],
   "source": [
    "False == False"
   ]
  }
 ],
 "metadata": {
  "kernelspec": {
   "display_name": "Python 3 (ipykernel)",
   "language": "python",
   "name": "python3"
  },
  "language_info": {
   "codemirror_mode": {
    "name": "ipython",
    "version": 3
   },
   "file_extension": ".py",
   "mimetype": "text/x-python",
   "name": "python",
   "nbconvert_exporter": "python",
   "pygments_lexer": "ipython3",
   "version": "3.11.11"
  }
 },
 "nbformat": 4,
 "nbformat_minor": 5
}
