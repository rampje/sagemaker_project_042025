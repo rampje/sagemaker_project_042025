{
 "cells": [
  {
   "cell_type": "code",
   "execution_count": 14,
   "id": "9775360a-f3c7-47c4-8c05-099d8e204b42",
   "metadata": {},
   "outputs": [],
   "source": [
    "import sqlite3\n",
    "import pandas as pd\n",
    "\n",
    "df = pd.read_csv(\"data/projects_data.csv\")\n",
    "\n",
    "# Connect to the database (or create it if it doesn't exist)\n",
    "conn = sqlite3.connect('data/demo.db')\n",
    "\n",
    "# Create a cursor object\n",
    "cursor = conn.cursor()\n",
    "\n",
    "# Create a table\n",
    "cursor.execute('''\n",
    "CREATE TABLE IF NOT EXISTS projects (\n",
    "project_id INTEGER PRIMARY KEY, \n",
    "project_title TEXT, \n",
    "initial_award_fiscal_year INTEGER,\n",
    "funding_amount DECIMAL);''')\n",
    "\n",
    "# Insert data into the table\n",
    "df.to_sql('projects', conn, if_exists='replace', index=False)\n",
    "\n",
    "# Commit the changes\n",
    "conn.commit()\n",
    "\n",
    "# Close the connection\n",
    "conn.close()"
   ]
  },
  {
   "cell_type": "code",
   "execution_count": 15,
   "id": "ad4cd4fe-aec5-4106-ba8d-6e69f83c6e0f",
   "metadata": {},
   "outputs": [
    {
     "name": "stdout",
     "output_type": "stream",
     "text": [
      "   number_of_projects\n",
      "0                   2\n"
     ]
    }
   ],
   "source": [
    "sql_query = \"SELECT COUNT(project_id) AS number_of_projects FROM projects WHERE initial_award_fiscal_year = '2020';\"\n",
    "conn = sqlite3.connect('data/demo.db')\n",
    "cursor = conn.cursor()\n",
    "df = pd.read_sql_query(sql_query, conn, index_col=None)\n",
    "print(df)"
   ]
  },
  {
   "cell_type": "code",
   "execution_count": 20,
   "id": "98dfb7ab-d071-4020-9328-fc9b8cec7112",
   "metadata": {},
   "outputs": [],
   "source": [
    "import sqlite3\n",
    "import pandas as pd\n",
    "\n",
    "df = pd.read_csv(\"data/projects.csv\", encoding='cp1252')\n",
    "\n",
    "# Connect to the database (or create it if it doesn't exist)\n",
    "conn = sqlite3.connect('data/demo1.db')\n",
    "\n",
    "# Create a cursor object\n",
    "cursor = conn.cursor()\n",
    "\n",
    "# Create a table\n",
    "cursor.execute('''\n",
    "CREATE TABLE IF NOT EXISTS projects (\n",
    "project_id INTEGER PRIMARY KEY, \n",
    "region TEXT, \n",
    "research_location TEXT,\n",
    "research_unit TEXT,\n",
    "project_name TEXT,\n",
    "start_date TEXT,\n",
    "end_date TEXT,\n",
    "objective TEXT,\n",
    "approach TEXT,\n",
    "project_type TEXT,\n",
    "link TEXT);''')\n",
    "\n",
    "# Insert data into the table\n",
    "df.to_sql('projects', conn, if_exists='replace', index=False)\n",
    "\n",
    "# Commit the changes\n",
    "conn.commit()\n",
    "\n",
    "# Close the connection\n",
    "conn.close()"
   ]
  },
  {
   "cell_type": "code",
   "execution_count": 18,
   "id": "f1a15624-d263-4be8-a949-3bb66c764627",
   "metadata": {},
   "outputs": [
    {
     "name": "stdout",
     "output_type": "stream",
     "text": [
      "   number_of_projects\n",
      "0                   1\n"
     ]
    }
   ],
   "source": [
    "sql_query = \"SELECT COUNT(project_id) AS number_of_projects FROM projects WHERE strftime('%Y', start_date) = '2019';\"\n",
    "#sql_query = \"SELECT start_date from projects;\"\n",
    "conn = sqlite3.connect('data/demo1.db')\n",
    "cursor = conn.cursor()\n",
    "df = pd.read_sql_query(sql_query, conn, index_col=None)\n",
    "print(df)"
   ]
  },
  {
   "cell_type": "code",
   "execution_count": 19,
   "id": "42739a0d-90e5-4e9c-a51a-f421d53f479b",
   "metadata": {},
   "outputs": [
    {
     "name": "stdout",
     "output_type": "stream",
     "text": [
      "Empty DataFrame\n",
      "Columns: [project_name]\n",
      "Index: []\n"
     ]
    }
   ],
   "source": [
    "sql_query = \"SELECT project_name from projects WHERE research_location = 'Athens, Georgia';\"\n",
    "#sql_query = \"SELECT start_date from projects;\"\n",
    "conn = sqlite3.connect('data/demo1.db')\n",
    "cursor = conn.cursor()\n",
    "df = pd.read_sql_query(sql_query, conn, index_col=None)\n",
    "print(df)"
   ]
  }
 ],
 "metadata": {
  "kernelspec": {
   "display_name": "Python 3 (ipykernel)",
   "language": "python",
   "name": "python3"
  },
  "language_info": {
   "codemirror_mode": {
    "name": "ipython",
    "version": 3
   },
   "file_extension": ".py",
   "mimetype": "text/x-python",
   "name": "python",
   "nbconvert_exporter": "python",
   "pygments_lexer": "ipython3",
   "version": "3.11.11"
  }
 },
 "nbformat": 4,
 "nbformat_minor": 5
}
